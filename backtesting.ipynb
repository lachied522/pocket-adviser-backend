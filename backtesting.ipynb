{
 "cells": [
  {
   "cell_type": "code",
   "execution_count": 1,
   "metadata": {
    "slideshow": {
     "slide_type": "slide"
    }
   },
   "outputs": [],
   "source": [
    "import os\n",
    "\n",
    "import numpy as np\n",
    "import pandas as pd\n",
    "\n",
    "import asyncio"
   ]
  },
  {
   "cell_type": "code",
   "execution_count": 2,
   "metadata": {},
   "outputs": [],
   "source": [
    "from datetime import datetime, timedelta\n",
    "\n",
    "# objective to simulate for\n",
    "objective = \"RETIREMENT\"\n",
    "\n",
    "# define date range for simulation\n",
    "freq = timedelta(days=30) # one month\n",
    "n = 36 # three years\n",
    "end = datetime.now()\n",
    "date_range = pd.date_range(start=end-n*freq, end=end, freq=freq, normalize=True)"
   ]
  },
  {
   "cell_type": "code",
   "execution_count": 36,
   "metadata": {},
   "outputs": [],
   "source": [
    "from dotenv import load_dotenv\n",
    "from data import StockDataClient\n",
    "\n",
    "load_dotenv()\n",
    "\n",
    "client = StockDataClient()\n",
    "\n",
    "if os.path.exists('testing.csv'):\n",
    "    df = pd.read_csv('testing.csv')\n",
    "    # add 'expReturn' column\n",
    "    df[\"expReturn\"] = df[\"priceTarget\"] / df[\"price\"] - 1\n",
    "else:\n",
    "    # Step 1. Get all stocks \n",
    "    stock_list = await client.get_all_stocks_by_exchange(\"NASDAQ\")\n",
    "    # Step 2. Filter stocks by market cap and get company profile\n",
    "    min_cap = 50_000_000_000\n",
    "    tasks = []\n",
    "    for stock in stock_list:\n",
    "        if stock.get(\"marketCap\"):\n",
    "            if stock[\"marketCap\"] > min_cap:\n",
    "                tasks.append(asyncio.create_task(client.get_company_profile(stock[\"symbol\"])))\n",
    "\n",
    "    filtered_stocks = await asyncio.gather(*tasks)"
   ]
  },
  {
   "cell_type": "code",
   "execution_count": 4,
   "metadata": {},
   "outputs": [],
   "source": [
    "from params import OBJECTIVE_MAP\n",
    "\n",
    "if not os.path.exists('testing.csv'):\n",
    "    # Step 3 select a random subset of 50 stocks subject to sector constraints\n",
    "    sector_allocations = OBJECTIVE_MAP[objective][\"sector_allocations\"]\n",
    "    if not os.path.exists('testing.csv'):\n",
    "        size = 50\n",
    "        universe = pd.DataFrame.from_records(filtered_stocks)\n",
    "        df = pd.DataFrame(columns=universe.columns)\n",
    "        for sector, group in universe.groupby(\"sector\"):\n",
    "            if not sector in sector_allocations:\n",
    "                continue\n",
    "            # remove etfs and funds\n",
    "            subset = group[(group[\"isEtf\"] == False) & (group[\"isFund\"] == False)]\n",
    "            num = int(min((np.ceil(sector_allocations.get(sector) * size), len(subset))))\n",
    "            df = pd.concat([df, subset.sample(num)])"
   ]
  },
  {
   "cell_type": "code",
   "execution_count": 5,
   "metadata": {},
   "outputs": [
    {
     "name": "stdout",
     "output_type": "stream",
     "text": [
      "      Unnamed: 0 symbol   beta   price  priceTarget\n",
      "0     2021-07-16    LIN  0.962  290.07        330.0\n",
      "1     2021-07-16   META  1.206  341.16          NaN\n",
      "2     2021-07-16   GOOG  1.010  131.85          NaN\n",
      "3     2021-07-16   TMUS  0.497  149.41        139.0\n",
      "4     2021-07-16   NFLX  1.257  530.31        617.0\n",
      "...          ...    ...    ...     ...          ...\n",
      "1734  2024-06-30   CRWD  1.074     NaN        410.0\n",
      "1735  2024-06-30   LRCX  1.466     NaN        980.0\n",
      "1736  2024-06-30   COIN  3.441     NaN        315.0\n",
      "1737  2024-06-30   CSCO  0.845     NaN         50.0\n",
      "1738  2024-06-30    CEG  0.794     NaN        218.0\n",
      "\n",
      "[1739 rows x 5 columns]\n"
     ]
    }
   ],
   "source": [
    "if not os.path.exists('testing.csv'):\n",
    "    df = pd.DataFrame(columns=[\"beta\", \"price\", \"priceTarget\"], index=pd.MultiIndex.from_product([pd.Series(date_range, name=\"date\"), df[\"symbol\"]]))\n",
    "    for _, stock in df.iterrows():\n",
    "        tasks = [\n",
    "            asyncio.create_task(client.get_analyst_research(stock[\"symbol\"])),\n",
    "            asyncio.create_task(client.get_historical_price(stock[\"symbol\"])),\n",
    "        ]\n",
    "        research, price = await asyncio.gather(*tasks)\n",
    "        \n",
    "        for date in date_range:\n",
    "            row = {\n",
    "                \"beta\": stock[\"beta\"], # no way to get historical beta, just use current\n",
    "                \"sector\": stock[\"sector\"],\n",
    "                \"price\": None,\n",
    "                \"priceTarget\": None,\n",
    "            }\n",
    "            # find price at date\n",
    "            for i in range(1, len(price[\"historical\"])):\n",
    "                item = price[\"historical\"][-i]\n",
    "                if datetime.strptime(item[\"date\"], \"%Y-%m-%d\") >= date:\n",
    "                    row[\"price\"] = item[\"close\"]\n",
    "                    break\n",
    "            # find price target at date\n",
    "            for i in range(1, len(research)):\n",
    "                article = research[-i]\n",
    "                publishedDate = datetime.strptime(article[\"publishedDate\"].split(\"T\")[0], \"%Y-%m-%d\")\n",
    "                if publishedDate >= date:\n",
    "                    break\n",
    "                row[\"priceTarget\"] = article[\"priceTarget\"]\n",
    "                \n",
    "            df.loc[(date, stock[\"symbol\"]),:] = row\n",
    "            \n",
    "    # save csv to local file\n",
    "    df.to_csv('testing.csv')\n",
    "    \n",
    "    # add 'expReturn' column\n",
    "    df[\"expReturn\"] = df[\"priceTarget\"] / df[\"price\"] - 1        \n",
    "\n",
    "# print df\n",
    "print(df)"
   ]
  },
  {
   "cell_type": "code",
   "execution_count": 41,
   "metadata": {},
   "outputs": [],
   "source": [
    "# get benchmark\n",
    "benchmark_data = await client.get_historical_price(\"^XNDX\", date_range[0].strftime(\"%Y-%m-%d\"), date_range[-1].strftime(\"%Y-%m-%d\"))"
   ]
  },
  {
   "cell_type": "code",
   "execution_count": 50,
   "metadata": {},
   "outputs": [
    {
     "name": "stdout",
     "output_type": "stream",
     "text": [
      "1000 1000\n"
     ]
    },
    {
     "ename": "KeyboardInterrupt",
     "evalue": "",
     "output_type": "error",
     "traceback": [
      "\u001b[1;31m---------------------------------------------------------------------------\u001b[0m",
      "\u001b[1;31mKeyboardInterrupt\u001b[0m                         Traceback (most recent call last)",
      "Cell \u001b[1;32mIn[50], line 55\u001b[0m\n\u001b[0;32m     44\u001b[0m \u001b[38;5;66;03m# avoid multi collinearity by removing one of the sectors\u001b[39;00m\n\u001b[0;32m     45\u001b[0m \u001b[38;5;66;03m# target_sectors = list(OBJECTIVE_MAP[objective][\"sector_allocations\"].items())[:-1]\u001b[39;00m\n\u001b[0;32m     46\u001b[0m \n\u001b[1;32m   (...)\u001b[0m\n\u001b[0;32m     50\u001b[0m \u001b[38;5;66;03m#     sector_vector = np.array(df[\"sector\"] == sector).astype(int)\u001b[39;00m\n\u001b[0;32m     51\u001b[0m \u001b[38;5;66;03m#     sector_cons.append(LinearConstraint(sector_vector, value*max(0, target-0.025), value*min(1, target+0.025)))\u001b[39;00m\n\u001b[0;32m     54\u001b[0m initial_guess \u001b[38;5;241m=\u001b[39m value \u001b[38;5;241m*\u001b[39m np\u001b[38;5;241m.\u001b[39mones(\u001b[38;5;28mlen\u001b[39m(merged)) \u001b[38;5;241m/\u001b[39m \u001b[38;5;28mlen\u001b[39m(merged)\n\u001b[1;32m---> 55\u001b[0m a \u001b[38;5;241m=\u001b[39m \u001b[43mminimize\u001b[49m\u001b[43m(\u001b[49m\u001b[43minv_utility_function\u001b[49m\u001b[43m,\u001b[49m\u001b[43m \u001b[49m\u001b[43minitial_guess\u001b[49m\u001b[43m,\u001b[49m\u001b[43m \u001b[49m\u001b[43margs\u001b[49m\u001b[38;5;241;43m=\u001b[39;49m\u001b[43m(\u001b[49m\u001b[43mmerged\u001b[49m\u001b[43m)\u001b[49m\u001b[43m,\u001b[49m\n\u001b[0;32m     56\u001b[0m \u001b[43m            \u001b[49m\u001b[43mmethod\u001b[49m\u001b[38;5;241;43m=\u001b[39;49m\u001b[38;5;124;43m'\u001b[39;49m\u001b[38;5;124;43mSLSQP\u001b[39;49m\u001b[38;5;124;43m'\u001b[39;49m\u001b[43m,\u001b[49m\u001b[43m \u001b[49m\u001b[43mbounds\u001b[49m\u001b[38;5;241;43m=\u001b[39;49m\u001b[43mbnds\u001b[49m\u001b[43m,\u001b[49m\u001b[43m \u001b[49m\u001b[43mconstraints\u001b[49m\u001b[38;5;241;43m=\u001b[39;49m\u001b[38;5;28;43mtuple\u001b[39;49m\u001b[43m(\u001b[49m\u001b[43msum_cons\u001b[49m\u001b[38;5;241;43m+\u001b[39;49m\u001b[43msector_cons\u001b[49m\u001b[43m)\u001b[49m\u001b[43m,\u001b[49m\n\u001b[0;32m     57\u001b[0m \u001b[43m            \u001b[49m\u001b[43moptions\u001b[49m\u001b[38;5;241;43m=\u001b[39;49m\u001b[43m{\u001b[49m\u001b[38;5;124;43m'\u001b[39;49m\u001b[38;5;124;43mmaxiter\u001b[39;49m\u001b[38;5;124;43m'\u001b[39;49m\u001b[43m:\u001b[49m\u001b[43m \u001b[49m\u001b[38;5;241;43m100\u001b[39;49m\u001b[43m}\u001b[49m\u001b[43m)\u001b[49m\u001b[38;5;241m.\u001b[39mx\n\u001b[0;32m     59\u001b[0m portfolio[\u001b[38;5;124m\"\u001b[39m\u001b[38;5;124munits\u001b[39m\u001b[38;5;124m\"\u001b[39m] \u001b[38;5;241m=\u001b[39m a \u001b[38;5;241m/\u001b[39m merged[\u001b[38;5;124m\"\u001b[39m\u001b[38;5;124mprice\u001b[39m\u001b[38;5;124m\"\u001b[39m]\n\u001b[0;32m     61\u001b[0m \u001b[38;5;28miter\u001b[39m \u001b[38;5;241m+\u001b[39m\u001b[38;5;241m=\u001b[39m \u001b[38;5;241m1\u001b[39m\n",
      "File \u001b[1;32mc:\\Users\\SB2\\Documents\\Pocket Adviser\\pocket-adviser-backend\\.venv\\Lib\\site-packages\\scipy\\optimize\\_minimize.py:722\u001b[0m, in \u001b[0;36mminimize\u001b[1;34m(fun, x0, args, method, jac, hess, hessp, bounds, constraints, tol, callback, options)\u001b[0m\n\u001b[0;32m    719\u001b[0m     res \u001b[38;5;241m=\u001b[39m _minimize_cobyla(fun, x0, args, constraints, callback\u001b[38;5;241m=\u001b[39mcallback,\n\u001b[0;32m    720\u001b[0m                            bounds\u001b[38;5;241m=\u001b[39mbounds, \u001b[38;5;241m*\u001b[39m\u001b[38;5;241m*\u001b[39moptions)\n\u001b[0;32m    721\u001b[0m \u001b[38;5;28;01melif\u001b[39;00m meth \u001b[38;5;241m==\u001b[39m \u001b[38;5;124m'\u001b[39m\u001b[38;5;124mslsqp\u001b[39m\u001b[38;5;124m'\u001b[39m:\n\u001b[1;32m--> 722\u001b[0m     res \u001b[38;5;241m=\u001b[39m \u001b[43m_minimize_slsqp\u001b[49m\u001b[43m(\u001b[49m\u001b[43mfun\u001b[49m\u001b[43m,\u001b[49m\u001b[43m \u001b[49m\u001b[43mx0\u001b[49m\u001b[43m,\u001b[49m\u001b[43m \u001b[49m\u001b[43margs\u001b[49m\u001b[43m,\u001b[49m\u001b[43m \u001b[49m\u001b[43mjac\u001b[49m\u001b[43m,\u001b[49m\u001b[43m \u001b[49m\u001b[43mbounds\u001b[49m\u001b[43m,\u001b[49m\n\u001b[0;32m    723\u001b[0m \u001b[43m                          \u001b[49m\u001b[43mconstraints\u001b[49m\u001b[43m,\u001b[49m\u001b[43m \u001b[49m\u001b[43mcallback\u001b[49m\u001b[38;5;241;43m=\u001b[39;49m\u001b[43mcallback\u001b[49m\u001b[43m,\u001b[49m\u001b[43m \u001b[49m\u001b[38;5;241;43m*\u001b[39;49m\u001b[38;5;241;43m*\u001b[39;49m\u001b[43moptions\u001b[49m\u001b[43m)\u001b[49m\n\u001b[0;32m    724\u001b[0m \u001b[38;5;28;01melif\u001b[39;00m meth \u001b[38;5;241m==\u001b[39m \u001b[38;5;124m'\u001b[39m\u001b[38;5;124mtrust-constr\u001b[39m\u001b[38;5;124m'\u001b[39m:\n\u001b[0;32m    725\u001b[0m     res \u001b[38;5;241m=\u001b[39m _minimize_trustregion_constr(fun, x0, args, jac, hess, hessp,\n\u001b[0;32m    726\u001b[0m                                        bounds, constraints,\n\u001b[0;32m    727\u001b[0m                                        callback\u001b[38;5;241m=\u001b[39mcallback, \u001b[38;5;241m*\u001b[39m\u001b[38;5;241m*\u001b[39moptions)\n",
      "File \u001b[1;32mc:\\Users\\SB2\\Documents\\Pocket Adviser\\pocket-adviser-backend\\.venv\\Lib\\site-packages\\scipy\\optimize\\_slsqp_py.py:441\u001b[0m, in \u001b[0;36m_minimize_slsqp\u001b[1;34m(func, x0, args, jac, bounds, constraints, maxiter, ftol, iprint, disp, eps, callback, finite_diff_rel_step, **unknown_options)\u001b[0m\n\u001b[0;32m    438\u001b[0m     c \u001b[38;5;241m=\u001b[39m _eval_constraint(x, cons)\n\u001b[0;32m    440\u001b[0m \u001b[38;5;28;01mif\u001b[39;00m mode \u001b[38;5;241m==\u001b[39m \u001b[38;5;241m-\u001b[39m\u001b[38;5;241m1\u001b[39m:  \u001b[38;5;66;03m# gradient evaluation required\u001b[39;00m\n\u001b[1;32m--> 441\u001b[0m     g \u001b[38;5;241m=\u001b[39m append(\u001b[43mwrapped_grad\u001b[49m\u001b[43m(\u001b[49m\u001b[43mx\u001b[49m\u001b[43m)\u001b[49m, \u001b[38;5;241m0.0\u001b[39m)\n\u001b[0;32m    442\u001b[0m     a \u001b[38;5;241m=\u001b[39m _eval_con_normals(x, cons, la, n, m, meq, mieq)\n\u001b[0;32m    444\u001b[0m \u001b[38;5;28;01mif\u001b[39;00m majiter \u001b[38;5;241m>\u001b[39m majiter_prev:\n\u001b[0;32m    445\u001b[0m     \u001b[38;5;66;03m# call callback if major iteration has incremented\u001b[39;00m\n",
      "File \u001b[1;32mc:\\Users\\SB2\\Documents\\Pocket Adviser\\pocket-adviser-backend\\.venv\\Lib\\site-packages\\scipy\\optimize\\_optimize.py:302\u001b[0m, in \u001b[0;36m_clip_x_for_func.<locals>.eval\u001b[1;34m(x)\u001b[0m\n\u001b[0;32m    300\u001b[0m \u001b[38;5;28;01mdef\u001b[39;00m \u001b[38;5;21meval\u001b[39m(x):\n\u001b[0;32m    301\u001b[0m     x \u001b[38;5;241m=\u001b[39m _check_clip_x(x, bounds)\n\u001b[1;32m--> 302\u001b[0m     \u001b[38;5;28;01mreturn\u001b[39;00m \u001b[43mfunc\u001b[49m\u001b[43m(\u001b[49m\u001b[43mx\u001b[49m\u001b[43m)\u001b[49m\n",
      "File \u001b[1;32mc:\\Users\\SB2\\Documents\\Pocket Adviser\\pocket-adviser-backend\\.venv\\Lib\\site-packages\\scipy\\optimize\\_differentiable_functions.py:284\u001b[0m, in \u001b[0;36mScalarFunction.grad\u001b[1;34m(self, x)\u001b[0m\n\u001b[0;32m    282\u001b[0m \u001b[38;5;28;01mif\u001b[39;00m \u001b[38;5;129;01mnot\u001b[39;00m np\u001b[38;5;241m.\u001b[39marray_equal(x, \u001b[38;5;28mself\u001b[39m\u001b[38;5;241m.\u001b[39mx):\n\u001b[0;32m    283\u001b[0m     \u001b[38;5;28mself\u001b[39m\u001b[38;5;241m.\u001b[39m_update_x_impl(x)\n\u001b[1;32m--> 284\u001b[0m \u001b[38;5;28;43mself\u001b[39;49m\u001b[38;5;241;43m.\u001b[39;49m\u001b[43m_update_grad\u001b[49m\u001b[43m(\u001b[49m\u001b[43m)\u001b[49m\n\u001b[0;32m    285\u001b[0m \u001b[38;5;28;01mreturn\u001b[39;00m \u001b[38;5;28mself\u001b[39m\u001b[38;5;241m.\u001b[39mg\n",
      "File \u001b[1;32mc:\\Users\\SB2\\Documents\\Pocket Adviser\\pocket-adviser-backend\\.venv\\Lib\\site-packages\\scipy\\optimize\\_differentiable_functions.py:267\u001b[0m, in \u001b[0;36mScalarFunction._update_grad\u001b[1;34m(self)\u001b[0m\n\u001b[0;32m    265\u001b[0m \u001b[38;5;28;01mdef\u001b[39;00m \u001b[38;5;21m_update_grad\u001b[39m(\u001b[38;5;28mself\u001b[39m):\n\u001b[0;32m    266\u001b[0m     \u001b[38;5;28;01mif\u001b[39;00m \u001b[38;5;129;01mnot\u001b[39;00m \u001b[38;5;28mself\u001b[39m\u001b[38;5;241m.\u001b[39mg_updated:\n\u001b[1;32m--> 267\u001b[0m         \u001b[38;5;28;43mself\u001b[39;49m\u001b[38;5;241;43m.\u001b[39;49m\u001b[43m_update_grad_impl\u001b[49m\u001b[43m(\u001b[49m\u001b[43m)\u001b[49m\n\u001b[0;32m    268\u001b[0m         \u001b[38;5;28mself\u001b[39m\u001b[38;5;241m.\u001b[39mg_updated \u001b[38;5;241m=\u001b[39m \u001b[38;5;28;01mTrue\u001b[39;00m\n",
      "File \u001b[1;32mc:\\Users\\SB2\\Documents\\Pocket Adviser\\pocket-adviser-backend\\.venv\\Lib\\site-packages\\scipy\\optimize\\_differentiable_functions.py:181\u001b[0m, in \u001b[0;36mScalarFunction.__init__.<locals>.update_grad\u001b[1;34m()\u001b[0m\n\u001b[0;32m    179\u001b[0m \u001b[38;5;28mself\u001b[39m\u001b[38;5;241m.\u001b[39m_update_fun()\n\u001b[0;32m    180\u001b[0m \u001b[38;5;28mself\u001b[39m\u001b[38;5;241m.\u001b[39mngev \u001b[38;5;241m+\u001b[39m\u001b[38;5;241m=\u001b[39m \u001b[38;5;241m1\u001b[39m\n\u001b[1;32m--> 181\u001b[0m \u001b[38;5;28mself\u001b[39m\u001b[38;5;241m.\u001b[39mg \u001b[38;5;241m=\u001b[39m \u001b[43mapprox_derivative\u001b[49m\u001b[43m(\u001b[49m\u001b[43mfun_wrapped\u001b[49m\u001b[43m,\u001b[49m\u001b[43m \u001b[49m\u001b[38;5;28;43mself\u001b[39;49m\u001b[38;5;241;43m.\u001b[39;49m\u001b[43mx\u001b[49m\u001b[43m,\u001b[49m\u001b[43m \u001b[49m\u001b[43mf0\u001b[49m\u001b[38;5;241;43m=\u001b[39;49m\u001b[38;5;28;43mself\u001b[39;49m\u001b[38;5;241;43m.\u001b[39;49m\u001b[43mf\u001b[49m\u001b[43m,\u001b[49m\n\u001b[0;32m    182\u001b[0m \u001b[43m                           \u001b[49m\u001b[38;5;241;43m*\u001b[39;49m\u001b[38;5;241;43m*\u001b[39;49m\u001b[43mfinite_diff_options\u001b[49m\u001b[43m)\u001b[49m\n",
      "File \u001b[1;32mc:\\Users\\SB2\\Documents\\Pocket Adviser\\pocket-adviser-backend\\.venv\\Lib\\site-packages\\scipy\\optimize\\_numdiff.py:519\u001b[0m, in \u001b[0;36mapprox_derivative\u001b[1;34m(fun, x0, method, rel_step, abs_step, f0, bounds, sparsity, as_linear_operator, args, kwargs)\u001b[0m\n\u001b[0;32m    516\u001b[0m     use_one_sided \u001b[38;5;241m=\u001b[39m \u001b[38;5;28;01mFalse\u001b[39;00m\n\u001b[0;32m    518\u001b[0m \u001b[38;5;28;01mif\u001b[39;00m sparsity \u001b[38;5;129;01mis\u001b[39;00m \u001b[38;5;28;01mNone\u001b[39;00m:\n\u001b[1;32m--> 519\u001b[0m     \u001b[38;5;28;01mreturn\u001b[39;00m \u001b[43m_dense_difference\u001b[49m\u001b[43m(\u001b[49m\u001b[43mfun_wrapped\u001b[49m\u001b[43m,\u001b[49m\u001b[43m \u001b[49m\u001b[43mx0\u001b[49m\u001b[43m,\u001b[49m\u001b[43m \u001b[49m\u001b[43mf0\u001b[49m\u001b[43m,\u001b[49m\u001b[43m \u001b[49m\u001b[43mh\u001b[49m\u001b[43m,\u001b[49m\n\u001b[0;32m    520\u001b[0m \u001b[43m                             \u001b[49m\u001b[43muse_one_sided\u001b[49m\u001b[43m,\u001b[49m\u001b[43m \u001b[49m\u001b[43mmethod\u001b[49m\u001b[43m)\u001b[49m\n\u001b[0;32m    521\u001b[0m \u001b[38;5;28;01melse\u001b[39;00m:\n\u001b[0;32m    522\u001b[0m     \u001b[38;5;28;01mif\u001b[39;00m \u001b[38;5;129;01mnot\u001b[39;00m issparse(sparsity) \u001b[38;5;129;01mand\u001b[39;00m \u001b[38;5;28mlen\u001b[39m(sparsity) \u001b[38;5;241m==\u001b[39m \u001b[38;5;241m2\u001b[39m:\n",
      "File \u001b[1;32mc:\\Users\\SB2\\Documents\\Pocket Adviser\\pocket-adviser-backend\\.venv\\Lib\\site-packages\\scipy\\optimize\\_numdiff.py:590\u001b[0m, in \u001b[0;36m_dense_difference\u001b[1;34m(fun, x0, f0, h, use_one_sided, method)\u001b[0m\n\u001b[0;32m    588\u001b[0m     x \u001b[38;5;241m=\u001b[39m x0 \u001b[38;5;241m+\u001b[39m h_vecs[i]\n\u001b[0;32m    589\u001b[0m     dx \u001b[38;5;241m=\u001b[39m x[i] \u001b[38;5;241m-\u001b[39m x0[i]  \u001b[38;5;66;03m# Recompute dx as exactly representable number.\u001b[39;00m\n\u001b[1;32m--> 590\u001b[0m     df \u001b[38;5;241m=\u001b[39m \u001b[43mfun\u001b[49m\u001b[43m(\u001b[49m\u001b[43mx\u001b[49m\u001b[43m)\u001b[49m \u001b[38;5;241m-\u001b[39m f0\n\u001b[0;32m    591\u001b[0m \u001b[38;5;28;01melif\u001b[39;00m method \u001b[38;5;241m==\u001b[39m \u001b[38;5;124m'\u001b[39m\u001b[38;5;124m3-point\u001b[39m\u001b[38;5;124m'\u001b[39m \u001b[38;5;129;01mand\u001b[39;00m use_one_sided[i]:\n\u001b[0;32m    592\u001b[0m     x1 \u001b[38;5;241m=\u001b[39m x0 \u001b[38;5;241m+\u001b[39m h_vecs[i]\n",
      "File \u001b[1;32mc:\\Users\\SB2\\Documents\\Pocket Adviser\\pocket-adviser-backend\\.venv\\Lib\\site-packages\\scipy\\optimize\\_numdiff.py:470\u001b[0m, in \u001b[0;36mapprox_derivative.<locals>.fun_wrapped\u001b[1;34m(x)\u001b[0m\n\u001b[0;32m    467\u001b[0m \u001b[38;5;28;01mif\u001b[39;00m xp\u001b[38;5;241m.\u001b[39misdtype(x\u001b[38;5;241m.\u001b[39mdtype, \u001b[38;5;124m\"\u001b[39m\u001b[38;5;124mreal floating\u001b[39m\u001b[38;5;124m\"\u001b[39m):\n\u001b[0;32m    468\u001b[0m     x \u001b[38;5;241m=\u001b[39m xp\u001b[38;5;241m.\u001b[39mastype(x, x0\u001b[38;5;241m.\u001b[39mdtype)\n\u001b[1;32m--> 470\u001b[0m f \u001b[38;5;241m=\u001b[39m np\u001b[38;5;241m.\u001b[39matleast_1d(\u001b[43mfun\u001b[49m\u001b[43m(\u001b[49m\u001b[43mx\u001b[49m\u001b[43m,\u001b[49m\u001b[43m \u001b[49m\u001b[38;5;241;43m*\u001b[39;49m\u001b[43margs\u001b[49m\u001b[43m,\u001b[49m\u001b[43m \u001b[49m\u001b[38;5;241;43m*\u001b[39;49m\u001b[38;5;241;43m*\u001b[39;49m\u001b[43mkwargs\u001b[49m\u001b[43m)\u001b[49m)\n\u001b[0;32m    471\u001b[0m \u001b[38;5;28;01mif\u001b[39;00m f\u001b[38;5;241m.\u001b[39mndim \u001b[38;5;241m>\u001b[39m \u001b[38;5;241m1\u001b[39m:\n\u001b[0;32m    472\u001b[0m     \u001b[38;5;28;01mraise\u001b[39;00m \u001b[38;5;167;01mRuntimeError\u001b[39;00m(\u001b[38;5;124m\"\u001b[39m\u001b[38;5;124m`fun` return value has \u001b[39m\u001b[38;5;124m\"\u001b[39m\n\u001b[0;32m    473\u001b[0m                        \u001b[38;5;124m\"\u001b[39m\u001b[38;5;124mmore than 1 dimension.\u001b[39m\u001b[38;5;124m\"\u001b[39m)\n",
      "File \u001b[1;32mc:\\Users\\SB2\\Documents\\Pocket Adviser\\pocket-adviser-backend\\.venv\\Lib\\site-packages\\scipy\\optimize\\_differentiable_functions.py:145\u001b[0m, in \u001b[0;36mScalarFunction.__init__.<locals>.fun_wrapped\u001b[1;34m(x)\u001b[0m\n\u001b[0;32m    141\u001b[0m \u001b[38;5;28mself\u001b[39m\u001b[38;5;241m.\u001b[39mnfev \u001b[38;5;241m+\u001b[39m\u001b[38;5;241m=\u001b[39m \u001b[38;5;241m1\u001b[39m\n\u001b[0;32m    142\u001b[0m \u001b[38;5;66;03m# Send a copy because the user may overwrite it.\u001b[39;00m\n\u001b[0;32m    143\u001b[0m \u001b[38;5;66;03m# Overwriting results in undefined behaviour because\u001b[39;00m\n\u001b[0;32m    144\u001b[0m \u001b[38;5;66;03m# fun(self.x) will change self.x, with the two no longer linked.\u001b[39;00m\n\u001b[1;32m--> 145\u001b[0m fx \u001b[38;5;241m=\u001b[39m fun(\u001b[43mnp\u001b[49m\u001b[38;5;241;43m.\u001b[39;49m\u001b[43mcopy\u001b[49m\u001b[43m(\u001b[49m\u001b[43mx\u001b[49m\u001b[43m)\u001b[49m, \u001b[38;5;241m*\u001b[39margs)\n\u001b[0;32m    146\u001b[0m \u001b[38;5;66;03m# Make sure the function returns a true scalar\u001b[39;00m\n\u001b[0;32m    147\u001b[0m \u001b[38;5;28;01mif\u001b[39;00m \u001b[38;5;129;01mnot\u001b[39;00m np\u001b[38;5;241m.\u001b[39misscalar(fx):\n",
      "File \u001b[1;32mc:\\Users\\SB2\\Documents\\Pocket Adviser\\pocket-adviser-backend\\.venv\\Lib\\site-packages\\numpy\\lib\\function_base.py:962\u001b[0m, in \u001b[0;36mcopy\u001b[1;34m(a, order, subok)\u001b[0m\n\u001b[0;32m    873\u001b[0m \u001b[38;5;129m@array_function_dispatch\u001b[39m(_copy_dispatcher)\n\u001b[0;32m    874\u001b[0m \u001b[38;5;28;01mdef\u001b[39;00m \u001b[38;5;21mcopy\u001b[39m(a, order\u001b[38;5;241m=\u001b[39m\u001b[38;5;124m'\u001b[39m\u001b[38;5;124mK\u001b[39m\u001b[38;5;124m'\u001b[39m, subok\u001b[38;5;241m=\u001b[39m\u001b[38;5;28;01mFalse\u001b[39;00m):\n\u001b[0;32m    875\u001b[0m \u001b[38;5;250m    \u001b[39m\u001b[38;5;124;03m\"\"\"\u001b[39;00m\n\u001b[0;32m    876\u001b[0m \u001b[38;5;124;03m    Return an array copy of the given object.\u001b[39;00m\n\u001b[0;32m    877\u001b[0m \n\u001b[1;32m   (...)\u001b[0m\n\u001b[0;32m    960\u001b[0m \n\u001b[0;32m    961\u001b[0m \u001b[38;5;124;03m    \"\"\"\u001b[39;00m\n\u001b[1;32m--> 962\u001b[0m     \u001b[38;5;28;01mreturn\u001b[39;00m \u001b[43marray\u001b[49m\u001b[43m(\u001b[49m\u001b[43ma\u001b[49m\u001b[43m,\u001b[49m\u001b[43m \u001b[49m\u001b[43morder\u001b[49m\u001b[38;5;241;43m=\u001b[39;49m\u001b[43morder\u001b[49m\u001b[43m,\u001b[49m\u001b[43m \u001b[49m\u001b[43msubok\u001b[49m\u001b[38;5;241;43m=\u001b[39;49m\u001b[43msubok\u001b[49m\u001b[43m,\u001b[49m\u001b[43m \u001b[49m\u001b[43mcopy\u001b[49m\u001b[38;5;241;43m=\u001b[39;49m\u001b[38;5;28;43;01mTrue\u001b[39;49;00m\u001b[43m)\u001b[49m\n",
      "\u001b[1;31mKeyboardInterrupt\u001b[0m: "
     ]
    }
   ],
   "source": [
    "from scipy.optimize import minimize, Bounds, LinearConstraint\n",
    "\n",
    "def inv_utility_function(\n",
    "    a: np.ndarray|pd.Series,\n",
    "    df: pd.DataFrame,\n",
    "):\n",
    "    \"\"\"\n",
    "    Inverse utility function for optimisation.\n",
    "    \"\"\"\n",
    "    r_f = 0.05 # TO DO\n",
    "    # Treynor ratio = (r_p - r_f) / Beta_p, see https://www.investopedia.com/terms/t/treynorratio.asp\n",
    "    r_p = np.dot(a, df[\"expReturn\"].fillna(0))\n",
    "    Beta_p = np.dot(a, df[\"beta\"].fillna(1))\n",
    "    # prevent divide by zero by adding small amount to beta\n",
    "    U = (r_p - r_f) / (Beta_p if Beta_p != 0 else 0.01)\n",
    "    return -U\n",
    "\n",
    "initial_value = 1000 # set an initial value of 1000\n",
    "benchmark = initial_value\n",
    "portfolio = pd.DataFrame({\"symbol\": df[\"symbol\"].unique(), \"units\": np.zeros(len(df[\"symbol\"].unique()))}) # rolling copy of portfolio\n",
    "iter = 0\n",
    "for date, data in df.groupby('date'):\n",
    "    # calculate portfolio value\n",
    "    merged = pd.merge(data, portfolio[[\"symbol\", \"units\"]], on='symbol', how='left')\n",
    "    # fill na\n",
    "    merged[\"units\"] = merged[\"units\"].fillna(0)\n",
    "    value = np.sum(portfolio[\"units\"] * merged[\"price\"]) if iter > 0 else initial_value\n",
    "    print(value, benchmark)\n",
    "    \n",
    "    # define bounds\n",
    "    lb = np.zeros(len(merged))\n",
    "    # upper bound equal to total value of portfolio\n",
    "    ub = value * np.ones(len(merged))\n",
    "    # set keep_feasible True to ensure iterations remain within bounds\n",
    "    bnds = Bounds(lb, ub, keep_feasible=True)\n",
    "    \n",
    "    # define constraints\n",
    "    # sum constraint\n",
    "    sum_cons = [LinearConstraint(np.ones(len(merged)), value, value)]\n",
    "    # sector constraints\n",
    "    sector_cons = []\n",
    "    # avoid multi collinearity by removing one of the sectors\n",
    "    # target_sectors = list(OBJECTIVE_MAP[objective][\"sector_allocations\"].items())[:-1]\n",
    "\n",
    "    # # seem to have better results by defining constraint for each sector individually\n",
    "    # for sector, target in target_sectors:\n",
    "    #     # array indicating which stocks belong to each sector\n",
    "    #     sector_vector = np.array(df[\"sector\"] == sector).astype(int)\n",
    "    #     sector_cons.append(LinearConstraint(sector_vector, value*max(0, target-0.025), value*min(1, target+0.025)))\n",
    "\n",
    "    \n",
    "    initial_guess = value * np.ones(len(merged)) / len(merged)\n",
    "    a = minimize(inv_utility_function, initial_guess, args=(merged),\n",
    "                method='SLSQP', bounds=bnds, constraints=tuple(sum_cons+sector_cons),\n",
    "                options={'maxiter': 100}).x\n",
    "    \n",
    "    portfolio[\"units\"] = a / merged[\"price\"]\n",
    "        \n",
    "    iter += 1"
   ]
  }
 ],
 "metadata": {
  "kernelspec": {
   "display_name": ".venv",
   "language": "python",
   "name": "python3"
  },
  "language_info": {
   "codemirror_mode": {
    "name": "ipython",
    "version": 3
   },
   "file_extension": ".py",
   "mimetype": "text/x-python",
   "name": "python",
   "nbconvert_exporter": "python",
   "pygments_lexer": "ipython3",
   "version": "3.12.0"
  }
 },
 "nbformat": 4,
 "nbformat_minor": 2
}
